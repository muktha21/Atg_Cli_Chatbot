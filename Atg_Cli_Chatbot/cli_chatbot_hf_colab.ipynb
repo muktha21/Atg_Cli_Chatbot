{
  "cells": [
    {
      "cell_type": "code",
      "source": [
        "!pip install -q transformers"
      ],
      "metadata": {
        "id": "3ow3BBEpPWGk"
      },
      "execution_count": 59,
      "outputs": []
    },
    {
      "cell_type": "code",
      "source": [
        "from transformers import pipeline"
      ],
      "metadata": {
        "id": "sLh5Wd63PjtY"
      },
      "execution_count": 54,
      "outputs": []
    },
    {
      "cell_type": "code",
      "source": [
        "qa = pipeline(\"text2text-generation\", model=\"google/flan-t5-small\")"
      ],
      "metadata": {
        "colab": {
          "base_uri": "https://localhost:8080/"
        },
        "id": "BdWUmFzfQBK5",
        "outputId": "887b0124-4a09-4eec-e223-cd73987fe740"
      },
      "execution_count": 60,
      "outputs": [
        {
          "output_type": "stream",
          "name": "stderr",
          "text": [
            "Device set to use cpu\n"
          ]
        }
      ]
    },
    {
      "cell_type": "code",
      "source": [
        "questions = [\n",
        "    \"What is the capital of France?\",\n",
        "    \"And what about Italy?\",\n",
        "    \"Who is the president of the USA?\",\n",
        "    \"What is 15 times 7?\",\n",
        "    \"Define gravity.\",\n",
        "    \"/exit\"\n",
        "]"
      ],
      "metadata": {
        "id": "drfk9Kt-QB_u"
      },
      "execution_count": 61,
      "outputs": []
    },
    {
      "cell_type": "code",
      "source": [
        "print(\"Chatbot: Hello! Ask me anything. Type /exit to quit.\\n\")\n",
        "\n",
        "for user_input in questions:\n",
        "    if user_input.lower() == \"/exit\":\n",
        "        print(\"Chatbot: Exiting chatbot. Goodbye!\")\n",
        "        break\n",
        "    response = qa(user_input, max_new_tokens=100)[0][\"generated_text\"]\n",
        "    print(f\"User: {user_input}\")\n",
        "    print(f\"Bot: {response}\\n\")"
      ],
      "metadata": {
        "colab": {
          "base_uri": "https://localhost:8080/"
        },
        "id": "WcsWEmusQH8O",
        "outputId": "55bb2260-d923-4658-fcde-1cc110d9dcf8"
      },
      "execution_count": 65,
      "outputs": [
        {
          "output_type": "stream",
          "name": "stdout",
          "text": [
            "Chatbot: Hello! Ask me anything. Type /exit to quit.\n",
            "\n",
            "User: What is the capital of France?\n",
            "Bot: france\n",
            "\n",
            "User: And what about Italy?\n",
            "Bot: Italy\n",
            "\n",
            "User: Who is the president of the USA?\n",
            "Bot: george w. bush\n",
            "\n",
            "User: What is 15 times 7?\n",
            "Bot: 0\n",
            "\n",
            "User: Define gravity.\n",
            "Bot: Define gravity.\n",
            "\n",
            "Chatbot: Exiting chatbot. Goodbye!\n"
          ]
        }
      ]
    },
    {
      "cell_type": "code",
      "source": [],
      "metadata": {
        "id": "LJ3bm8WrQWW2"
      },
      "execution_count": 58,
      "outputs": []
    }
  ],
  "metadata": {
    "colab": {
      "provenance": []
    },
    "kernelspec": {
      "display_name": "Python 3",
      "name": "python3"
    },
    "language_info": {
      "name": "python"
    }
  },
  "nbformat": 4,
  "nbformat_minor": 0
}